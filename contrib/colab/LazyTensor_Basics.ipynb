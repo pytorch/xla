{
 "cells": [
  {
   "cell_type": "markdown",
   "id": "06e73109",
   "metadata": {
    "id": "06e73109"
   },
   "source": [
    "# Setup PyTorch/XLA Environment"
   ]
  },
  {
   "cell_type": "code",
   "execution_count": null,
   "id": "WJ5qowFp1yJP",
   "metadata": {
    "id": "WJ5qowFp1yJP"
   },
   "outputs": [],
   "source": [
    "!pip install cloud-tpu-client==0.10 torch==2.0.0 torchvision==0.15.1 https://storage.googleapis.com/tpu-pytorch/wheels/colab/torch_xla-2.0-cp39-cp39-linux_x86_64.whl"
   ]
  },
  {
   "cell_type": "code",
   "execution_count": null,
   "id": "5VDH-vKP1q9u",
   "metadata": {
    "id": "5VDH-vKP1q9u"
   },
   "outputs": [],
   "source": [
    "import os\n",
    "assert os.environ['COLAB_TPU_ADDR'], 'Make sure to select TPU from Edit > Notebook settings > Hardware accelerator'"
   ]
  },
  {
   "cell_type": "code",
   "execution_count": null,
   "id": "8aa70226",
   "metadata": {
    "id": "8aa70226"
   },
   "outputs": [],
   "source": [
    "import torch\n",
    "import torch_xla\n",
    "import torch_xla.core.xla_model as xm\n",
    "import torch_xla.debug.metrics as met\n",
    "\n",
    "import torch.nn as nn"
   ]
  },
  {
   "cell_type": "markdown",
   "id": "e55acb83",
   "metadata": {
    "id": "e55acb83"
   },
   "source": [
    "## LazyTensor Basics \n",
    "\n",
    "This colab is a companion to the blog post titled \"Understanding Lazy Tensor System Performance\".\n",
    "\n",
    "For illustration of lazy tensor behavior, let's perform some operations with XLA tensor(s), and examine the resulting HLO Graph:"
   ]
  },
  {
   "cell_type": "code",
   "execution_count": null,
   "id": "20d93911",
   "metadata": {
    "id": "20d93911"
   },
   "outputs": [],
   "source": [
    "dev = xm.xla_device()\n",
    "\n",
    "x1 = torch.rand((3, 3)).to(dev)\n",
    "x2 = torch.rand((3, 8)).to(dev)\n",
    "\n",
    "y1 = torch.einsum('bs,st->bt', x1, x2)\n",
    "y1 = y1 + x2\n",
    "print(torch_xla._XLAC._get_xla_tensors_text([y1]))"
   ]
  },
  {
   "cell_type": "markdown",
   "id": "RdNpPCL_eYUp",
   "metadata": {
    "id": "RdNpPCL_eYUp"
   },
   "source": [
    "Notice that XLA Tensors are \"Lazy\", i.e. The operations have been recorded but no computation/execution actually is done until required.\n",
    "\n",
    "The execution is done when a LazyTensor Barrier is inserted.\n",
    "The easiest way to insert a barrier is mark_step() call:"
   ]
  },
  {
   "cell_type": "code",
   "execution_count": null,
   "id": "Pc_GPV7zgV2b",
   "metadata": {
    "id": "Pc_GPV7zgV2b"
   },
   "outputs": [],
   "source": [
    "xm.mark_step()\n",
    "print(torch_xla._XLAC._get_xla_tensors_text([x1]))\n",
    "print(y1.device)"
   ]
  },
  {
   "cell_type": "markdown",
   "id": "jBthtD2MzSyD",
   "metadata": {
    "id": "jBthtD2MzSyD"
   },
   "source": [
    "# Dynamic Graph\n",
    "Now let's create a method which executes operations on xla tensors followed by a mark_step call. Optionally we also introduce a dynamic structure with these tensors. We then execute this method with and without the dynamic structure and measure the run time."
   ]
  },
  {
   "cell_type": "code",
   "execution_count": null,
   "id": "tWcwhuglRYAG",
   "metadata": {
    "id": "tWcwhuglRYAG"
   },
   "outputs": [],
   "source": [
    "def dummy_step(x, y, loss, acc=False):\n",
    "  z = torch.einsum('bs,st->bt', y, x)\n",
    "  step_loss = z.sum().view(1,)\n",
    "  if acc: \n",
    "    loss = torch.cat((loss, step_loss))\n",
    "  else:\n",
    "    loss = step_loss\n",
    "  xm.mark_step()\n",
    "  return loss"
   ]
  },
  {
   "cell_type": "code",
   "execution_count": null,
   "id": "YGAf-6c0ZxoK",
   "metadata": {
    "id": "YGAf-6c0ZxoK"
   },
   "outputs": [],
   "source": [
    "import time\n",
    "def measure_time(acc=False):\n",
    "  exec_times = []\n",
    "  iter_count = 100\n",
    "  x = torch.rand((512, 8)).to(dev)\n",
    "  y = torch.rand((512, 512)).to(dev)\n",
    "  loss = torch.zeros(1).to(dev)\n",
    "  for i in range(iter_count):\n",
    "    tic = time.time()\n",
    "    loss = dummy_step(x, y, loss, acc=acc)\n",
    "    toc = time.time()\n",
    "    exec_times.append(toc - tic)\n",
    "  return exec_times"
   ]
  },
  {
   "cell_type": "code",
   "execution_count": null,
   "id": "I5UFoYwDndpU",
   "metadata": {
    "id": "I5UFoYwDndpU"
   },
   "outputs": [],
   "source": [
    "dyn = measure_time(acc=True) # acc= True Results in dynamic graph\n",
    "st = measure_time(acc=False) # Static graph, computation shape, inputs and output shapes don't change"
   ]
  },
  {
   "cell_type": "code",
   "execution_count": null,
   "id": "4cnVF11ykWxG",
   "metadata": {
    "id": "4cnVF11ykWxG"
   },
   "outputs": [],
   "source": [
    "import matplotlib.pyplot as plt\n",
    "plt.plot(st, label = 'static graph')\n",
    "plt.plot(dyn, label = 'dynamic graph')\n",
    "plt.legend()\n",
    "plt.title('Execution time in seconds')"
   ]
  },
  {
   "cell_type": "markdown",
   "id": "1bkkZ5vN0f8u",
   "metadata": {
    "id": "1bkkZ5vN0f8u"
   },
   "source": [
    "Notice that dynamic graph execution times are consistently higher for same computation because of the compilation cost incurred in every iteration. Static graph curve benefits from compilation cache and quickly stablizes to a faster execution time."
   ]
  }
 ],
 "metadata": {
  "accelerator": "TPU",
  "colab": {
   "collapsed_sections": [],
   "name": "LazyTensor-Basics.ipynb",
   "provenance": []
  },
  "kernelspec": {
   "display_name": "Python 3 (ipykernel)",
   "language": "python",
   "name": "python3"
  },
  "language_info": {
   "codemirror_mode": {
    "name": "ipython",
    "version": 3
   },
   "file_extension": ".py",
   "mimetype": "text/x-python",
   "name": "python",
   "nbconvert_exporter": "python",
   "pygments_lexer": "ipython3",
   "version": "3.10.9"
  }
 },
 "nbformat": 4,
 "nbformat_minor": 5
}
