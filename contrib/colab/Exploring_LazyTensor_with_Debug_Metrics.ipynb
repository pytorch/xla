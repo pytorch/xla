{
  "nbformat": 4,
  "nbformat_minor": 5,
  "metadata": {
    "kernelspec": {
      "display_name": "Python 3 (ipykernel)",
      "language": "python",
      "name": "python3"
    },
    "language_info": {
      "codemirror_mode": {
        "name": "ipython",
        "version": 3
      },
      "file_extension": ".py",
      "mimetype": "text/x-python",
      "name": "python",
      "nbconvert_exporter": "python",
      "pygments_lexer": "ipython3",
      "version": "3.8.10"
    },
    "colab": {
      "name": "Exploring LazyTensor-with-Debug-Metrics.ipynb",
      "provenance": [],
      "collapsed_sections": []
    },
    "accelerator": "TPU"
  },
  "cells": [
    {
      "cell_type": "markdown",
      "metadata": {
        "id": "06e73109"
      },
      "source": [
        "# Setup PyTorch/XLA Environment"
      ],
      "id": "06e73109"
    },
    {
      "cell_type": "code",
      "metadata": {
        "id": "89f6b658"
      },
      "source": [
        "import os\n",
        "\n",
        "# Environment variable for profiling / debug\n",
        "os.environ['PT_XLA_DEBUG'] = '1'"
      ],
      "id": "89f6b658",
      "execution_count": null,
      "outputs": []
    },
    {
      "cell_type": "code",
      "metadata": {
        "id": "WJ5qowFp1yJP"
      },
      "source": [
        "!pip install cloud-tpu-client==0.10 torch==1.11.0 https://storage.googleapis.com/tpu-pytorch/wheels/torch_xla-1.11-cp37-cp37m-linux_x86_64.whl"
      ],
      "id": "WJ5qowFp1yJP",
      "execution_count": null,
      "outputs": []
    },
    {
      "cell_type": "code",
      "metadata": {
        "id": "5VDH-vKP1q9u"
      },
      "source": [
        "import os\n",
        "assert os.environ['COLAB_TPU_ADDR'], 'Make sure to select TPU from Edit > Notebook settings > Hardware accelerator'"
      ],
      "id": "5VDH-vKP1q9u",
      "execution_count": null,
      "outputs": []
    },
    {
      "cell_type": "code",
      "metadata": {
        "id": "8aa70226"
      },
      "source": [
        "import torch\n",
        "import torch_xla\n",
        "import torch_xla.core.xla_model as xm\n",
        "import torch_xla.debug.metrics as met\n",
        "\n",
        "import torch.nn as nn"
      ],
      "id": "8aa70226",
      "execution_count": null,
      "outputs": []
    },
    {
      "cell_type": "markdown",
      "metadata": {
        "id": "e55acb83"
      },
      "source": [
        "## Create XLA Tensor \n",
        "\n",
        "For illustration, perform operations with XLA tensor(s), and view HLO Graph:"
      ],
      "id": "e55acb83"
    },
    {
      "cell_type": "code",
      "metadata": {
        "id": "20d93911"
      },
      "source": [
        "dev = xm.xla_device()\n",
        "\n",
        "x1 = torch.rand((3, 3)).to(dev)\n",
        "x2 = torch.rand((3, 8)).to(dev)\n",
        "\n",
        "y1 = torch.einsum('bs,st->bt', x1, x2)\n",
        "y1 = y1 + x2\n",
        "print(torch_xla._XLAC._get_xla_tensors_text([y1]))"
      ],
      "id": "20d93911",
      "execution_count": null,
      "outputs": []
    },
    {
      "cell_type": "markdown",
      "source": [
        "Notice that XLA Tensors are \"Lazy\", i.e. The operations have been recorded but no computation/execution actually is done until required.\n",
        "\n",
        "The execution is done when a LazyTensor Barrier is inserted.\n",
        "The easiest way to insert a barrier is mark_step() call:"
      ],
      "metadata": {
        "id": "RdNpPCL_eYUp"
      },
      "id": "RdNpPCL_eYUp"
    },
    {
      "cell_type": "markdown",
      "metadata": {
        "id": "6b85ebc0"
      },
      "source": [
        "## Exploring LazyTensor with Debug Metrics\n",
        "Report the metrics and counters, and notice that no compilation has been performed yet, nor the graph has been executed."
      ],
      "id": "6b85ebc0"
    },
    {
      "cell_type": "code",
      "metadata": {
        "id": "7e09e1ff"
      },
      "source": [
        "# Print all available metrics \n",
        "print(f\"Available metrics:\\n {met.metric_names()}\")\n",
        "# Print all available counters\n",
        "print(f\"Available counters:\\n {met.counter_names()}\")"
      ],
      "id": "7e09e1ff",
      "execution_count": null,
      "outputs": []
    },
    {
      "cell_type": "markdown",
      "metadata": {
        "id": "c137c446"
      },
      "source": [
        "## Graph Execution Scenarios - 1\n",
        "\n",
        "The simplest where LazyTensor barrier is inserted triggers execution of graph(s) recorded so far is to call the mark_step API explicitly:\n"
      ],
      "id": "c137c446"
    },
    {
      "cell_type": "code",
      "metadata": {
        "id": "ee9a743c"
      },
      "source": [
        "xm.mark_step()"
      ],
      "id": "ee9a743c",
      "execution_count": null,
      "outputs": []
    },
    {
      "cell_type": "markdown",
      "source": [
        "Let's review the available metrics after the mark step call:"
      ],
      "metadata": {
        "id": "kOohNpTYoOrR"
      },
      "id": "kOohNpTYoOrR"
    },
    {
      "cell_type": "code",
      "metadata": {
        "id": "f043601d"
      },
      "source": [
        "# Print all available metrics \n",
        "print(f\"Available metrics:\\n {met.metric_names()}\")"
      ],
      "id": "f043601d",
      "execution_count": null,
      "outputs": []
    },
    {
      "cell_type": "markdown",
      "source": [
        "Note that we see the CompileTime metric available now. This metrics can provide the details of Compilation Times distribution for all the graph compilations executed so far. However, here we are only interested in the number of times the compilations happens, we can report it as:"
      ],
      "metadata": {
        "id": "qjRW_OKjoasv"
      },
      "id": "qjRW_OKjoasv"
    },
    {
      "cell_type": "code",
      "metadata": {
        "id": "ce416d37"
      },
      "source": [
        "met.metric_data('CompileTime')[:1]"
      ],
      "id": "ce416d37",
      "execution_count": null,
      "outputs": []
    },
    {
      "cell_type": "markdown",
      "metadata": {
        "id": "4d45d908"
      },
      "source": [
        "## Execution Scenario - 2\n",
        "Another scenario, where the LazyTensor Barrier is inserted is when PyTorch/XLA encounters an OP with no XLA lowering. Let's examine this scenario:"
      ],
      "id": "4d45d908"
    },
    {
      "cell_type": "code",
      "metadata": {
        "id": "86050e62"
      },
      "source": [
        "y1 = y1.view(3, 1, 2, 4)\n",
        "# Example op with no XLA lowering\n",
        "unfold = nn.Unfold(kernel_size=(2, 3))\n",
        "y2 =  unfold(y1)\n",
        "y4 = y2 * 2"
      ],
      "id": "86050e62",
      "execution_count": null,
      "outputs": []
    },
    {
      "cell_type": "markdown",
      "metadata": {
        "id": "1ee2c95d"
      },
      "source": [
        "Notice that an additional compilation is triggered."
      ],
      "id": "1ee2c95d"
    },
    {
      "cell_type": "code",
      "metadata": {
        "id": "c546dcb3"
      },
      "source": [
        "met.metric_data('CompileTime')[:1]"
      ],
      "id": "c546dcb3",
      "execution_count": null,
      "outputs": []
    },
    {
      "cell_type": "markdown",
      "source": [
        "Notice also the counters:"
      ],
      "metadata": {
        "id": "JEjG0VU6pi3Z"
      },
      "id": "JEjG0VU6pi3Z"
    },
    {
      "cell_type": "code",
      "source": [
        "print(f\"Available counters:\\n {met.counter_names()}\")"
      ],
      "metadata": {
        "id": "nwRyaPm3pha5"
      },
      "id": "nwRyaPm3pha5",
      "execution_count": null,
      "outputs": []
    },
    {
      "cell_type": "markdown",
      "metadata": {
        "id": "8e2bfa93"
      },
      "source": [
        "## PyTorch/XLA Profiler\n",
        "In the remainder of this notebook we will explore how PyTorch/XLA profiler can help surface these metrics insights without writing any additional line of code.\n",
        "\n",
        "Note: We alter the lower level variables to display the debug info which will by default be printed on your terminal (can be captured in the logfile). It is intended for educational purposes and is not the recommended way to use the profiler."
      ],
      "id": "8e2bfa93"
    },
    {
      "cell_type": "code",
      "metadata": {
        "id": "276316b9"
      },
      "source": [
        "from torch_xla.debug.frame_parser_util import process_frames"
      ],
      "id": "276316b9",
      "execution_count": null,
      "outputs": []
    },
    {
      "cell_type": "markdown",
      "metadata": {
        "id": "8c985a52"
      },
      "source": [
        "Example stack trace:"
      ],
      "id": "8c985a52"
    },
    {
      "cell_type": "code",
      "metadata": {
        "id": "223f64c3"
      },
      "source": [
        "debug_file = torch_xla._tmp_fname\n",
        "process_frames(debug_file)"
      ],
      "id": "223f64c3",
      "execution_count": null,
      "outputs": []
    },
    {
      "cell_type": "code",
      "metadata": {
        "id": "5905ace9"
      },
      "source": [
        "y4 = y4.reshape(-1,1)"
      ],
      "id": "5905ace9",
      "execution_count": null,
      "outputs": []
    },
    {
      "cell_type": "markdown",
      "metadata": {
        "id": "9ec76730"
      },
      "source": [
        "## Device to host transfer\n",
        "Now let's create a device to host transfer scenario:"
      ],
      "id": "9ec76730"
    },
    {
      "cell_type": "code",
      "metadata": {
        "id": "d70c301d"
      },
      "source": [
        "print(y4[0].item())"
      ],
      "id": "d70c301d",
      "execution_count": null,
      "outputs": []
    },
    {
      "cell_type": "code",
      "metadata": {
        "id": "7ba90288"
      },
      "source": [
        "# Print all available counters\n",
        "print(f\"Available counters:\\n {met.counter_names()}\")"
      ],
      "id": "7ba90288",
      "execution_count": null,
      "outputs": []
    },
    {
      "cell_type": "code",
      "metadata": {
        "id": "5145c93f"
      },
      "source": [
        "print(met.counter_value('aten::_local_scalar_dense'))"
      ],
      "id": "5145c93f",
      "execution_count": null,
      "outputs": []
    },
    {
      "cell_type": "code",
      "metadata": {
        "id": "53b620cd"
      },
      "source": [
        "process_frames(debug_file)"
      ],
      "id": "53b620cd",
      "execution_count": null,
      "outputs": []
    },
    {
      "cell_type": "markdown",
      "source": [
        "Notice that device to host transfer are reported in terms of _local_scalar_dense op. In the usual seting PyTorch/XLA profiler would provide you the full stack-trace leading to lines in your code which are causing device to host transfers."
      ],
      "metadata": {
        "id": "F_S_eXK1qfAd"
      },
      "id": "F_S_eXK1qfAd"
    },
    {
      "cell_type": "markdown",
      "source": [
        "# Summary\n",
        "In this notebook we have explored the LazyTensor behavior with some basic metrics and briefly also experiemented with some of the functionalities of PyTorch/XLA profiler. To explore other features of Pytorch/XLA profiler please review:\n",
        "- [Blog Posts](https://cloud.google.com/blog/topics/developers-practitioners/pytorchxla-performance-debugging-tpu-vm-part-1)\n",
        "- [Contrib Notebooks](https://github.com/pytorch/xla.git)"
      ],
      "metadata": {
        "id": "6An3HV34q0La"
      },
      "id": "6An3HV34q0La"
    }
  ]
}
