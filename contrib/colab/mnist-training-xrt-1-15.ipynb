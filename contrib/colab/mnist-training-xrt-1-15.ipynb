{
  "nbformat": 4,
  "nbformat_minor": 0,
  "metadata": {
    "colab": {
      "name": "[PT Devcon 2019] PyTorch/TPU MNIST",
      "provenance": [],
      "collapsed_sections": [],
      "machine_shape": "hm"
    },
    "kernelspec": {
      "name": "python3",
      "display_name": "Python 3"
    },
    "accelerator": "TPU"
  },
  "cells": [
    {
      "cell_type": "markdown",
      "metadata": {
        "id": "0WzFpOKDmURO",
        "colab_type": "text"
      },
      "source": [
        "## PyTorch/TPU MNIST Demo\n",
        "\n",
        "This colab example corresponds to the implementation under [test_train_mnist.py](https://github.com/pytorch/xla/blob/master/test/test_train_mnist.py) and is TF/XRT 1.15 compatible."
      ]
    },
    {
      "cell_type": "markdown",
      "metadata": {
        "id": "xOp9jBEumdvC",
        "colab_type": "text"
      },
      "source": [
        "<h3>  &nbsp;&nbsp;Use Colab Cloud TPU&nbsp;&nbsp; <a href=\"https://cloud.google.com/tpu/\"><img valign=\"middle\" src=\"https://raw.githubusercontent.com/GoogleCloudPlatform/tensorflow-without-a-phd/master/tensorflow-rl-pong/images/tpu-hexagon.png\" width=\"50\"></a></h3>\n",
        "\n",
        "* On the main menu, click Runtime and select **Change runtime type**. Set \"TPU\" as the hardware accelerator.\n",
        "* The cell below makes sure you have access to a TPU on Colab.\n"
      ]
    },
    {
      "cell_type": "code",
      "metadata": {
        "id": "Hx4YVNHametU",
        "colab_type": "code",
        "colab": {}
      },
      "source": [
        "import os\n",
        "assert os.environ['COLAB_TPU_ADDR'], 'Make sure to select TPU from Edit > Notebook settings > Hardware accelerator'"
      ],
      "execution_count": 0,
      "outputs": []
    },
    {
      "cell_type": "markdown",
      "metadata": {
        "id": "YofXQrnxmf5r",
        "colab_type": "text"
      },
      "source": [
        "### [RUNME] Install Colab TPU compatible PyTorch/TPU wheels and dependencies\n",
        "This may take up to ~2 minutes"
      ]
    },
    {
      "cell_type": "code",
      "metadata": {
        "id": "sPJVqAKyml5W",
        "colab_type": "code",
        "colab": {}
      },
      "source": [
        "DIST_BUCKET=\"gs://tpu-pytorch/wheels\"\n",
        "TORCH_WHEEL=\"torch-1.15-cp36-cp36m-linux_x86_64.whl\"\n",
        "TORCH_XLA_WHEEL=\"torch_xla-1.15-cp36-cp36m-linux_x86_64.whl\"\n",
        "TORCHVISION_WHEEL=\"torchvision-0.3.0-cp36-cp36m-linux_x86_64.whl\"\n",
        "\n",
        "# Install Colab TPU compat PyTorch/TPU wheels and dependencies\n",
        "!pip uninstall -y torch torchvision\n",
        "!gsutil cp \"$DIST_BUCKET/$TORCH_WHEEL\" .\n",
        "!gsutil cp \"$DIST_BUCKET/$TORCH_XLA_WHEEL\" .\n",
        "!gsutil cp \"$DIST_BUCKET/$TORCHVISION_WHEEL\" .\n",
        "!pip install \"$TORCH_WHEEL\"\n",
        "!pip install \"$TORCH_XLA_WHEEL\"\n",
        "!pip install \"$TORCHVISION_WHEEL\"\n",
        "!sudo apt-get install libomp5"
      ],
      "execution_count": 0,
      "outputs": []
    },
    {
      "cell_type": "markdown",
      "metadata": {
        "id": "iwoK4kGUmoHL",
        "colab_type": "text"
      },
      "source": [
        "### Define Parameters\n"
      ]
    },
    {
      "cell_type": "code",
      "metadata": {
        "id": "kNh-oEmHmorI",
        "colab_type": "code",
        "colab": {}
      },
      "source": [
        "data_dir = \"/tmp/mnist\" #@param {type:\"string\"}\n",
        "batch_size = 128 #@param {type:\"integer\"}\n",
        "num_workers = 4 #@param {type:\"integer\"}\n",
        "learning_rate = 0.01 #@param {type:\"number\"}\n",
        "momentum = 0.5 #@param {type:\"number\"}\n",
        "num_epochs = 10 #@param {type:\"integer\"}\n",
        "num_cores = 8 #@param [8, 1] {type:\"raw\"}\n",
        "log_steps = 20 #@param {type:\"integer\"}\n",
        "metrics_debug = False #@param {type:\"boolean\"}"
      ],
      "execution_count": 0,
      "outputs": []
    },
    {
      "cell_type": "code",
      "metadata": {
        "id": "pTmxZL5ymp8P",
        "colab_type": "code",
        "colab": {}
      },
      "source": [
        "import numpy as np\n",
        "import time\n",
        "import torch\n",
        "import torch.nn as nn\n",
        "import torch.nn.functional as F\n",
        "import torch.optim as optim\n",
        "import torch_xla\n",
        "import torch_xla.distributed.data_parallel as dp\n",
        "import torch_xla.utils.utils as xu\n",
        "import torch_xla.core.xla_model as xm\n",
        "from torchvision import datasets, transforms\n",
        "\n",
        "class MNIST(nn.Module):\n",
        "\n",
        "  def __init__(self):\n",
        "    super(MNIST, self).__init__()\n",
        "    self.conv1 = nn.Conv2d(1, 10, kernel_size=5)\n",
        "    self.bn1 = nn.BatchNorm2d(10)\n",
        "    self.conv2 = nn.Conv2d(10, 20, kernel_size=5)\n",
        "    self.bn2 = nn.BatchNorm2d(20)\n",
        "    self.fc1 = nn.Linear(320, 50)\n",
        "    self.fc2 = nn.Linear(50, 10)\n",
        "\n",
        "  def forward(self, x):\n",
        "    x = F.relu(F.max_pool2d(self.conv1(x), 2))\n",
        "    x = self.bn1(x)\n",
        "    x = F.relu(F.max_pool2d(self.conv2(x), 2))\n",
        "    x = self.bn2(x)\n",
        "    x = torch.flatten(x, 1)\n",
        "    x = F.relu(self.fc1(x))\n",
        "    x = self.fc2(x)\n",
        "    return F.log_softmax(x, dim=1)\n",
        "  \n",
        "norm = transforms.Normalize((0.1307,), (0.3081,))\n",
        "inv_norm = transforms.Normalize((-0.1307/0.3081,), (1/0.3081,))\n",
        "train_dataset = datasets.MNIST(\n",
        "    data_dir,\n",
        "    train=True,\n",
        "    download=True,\n",
        "    transform=transforms.Compose(\n",
        "        [transforms.ToTensor(), norm]))\n",
        "test_dataset = datasets.MNIST(\n",
        "    data_dir,\n",
        "    train=False,\n",
        "    transform=transforms.Compose(\n",
        "        [transforms.ToTensor(), norm]))\n",
        "train_loader = torch.utils.data.DataLoader(\n",
        "    train_dataset,\n",
        "    batch_size=batch_size,\n",
        "    shuffle=True,\n",
        "    num_workers=num_workers)\n",
        "test_loader = torch.utils.data.DataLoader(\n",
        "    test_dataset,\n",
        "    batch_size=batch_size,\n",
        "    shuffle=False,\n",
        "    num_workers=num_workers)\n",
        "\n",
        "devices = (\n",
        "    xm.get_xla_supported_devices(\n",
        "        max_devices=num_cores) if num_cores != 0 else [])\n",
        "print(\"Devices: {}\".format(devices))\n",
        "# Scale learning rate to num cores\n",
        "learning_rate = learning_rate * max(len(devices), 1)\n",
        "# Pass [] as device_ids to run using the PyTorch/CPU engine.\n",
        "model_parallel = dp.DataParallel(MNIST, device_ids=devices)\n",
        "\n",
        "def train_loop_fn(model, loader, device, context):\n",
        "  loss_fn = nn.NLLLoss()\n",
        "  optimizer = context.getattr_or(\n",
        "      'optimizer',\n",
        "      lambda: optim.SGD(model.parameters(), lr=learning_rate,\n",
        "                        momentum=momentum))\n",
        "  tracker = xm.RateTracker()\n",
        "\n",
        "  model.train()\n",
        "  for x, (data, target) in loader:\n",
        "    optimizer.zero_grad()\n",
        "    output = model(data)\n",
        "    loss = loss_fn(output, target)\n",
        "    loss.backward()\n",
        "    xm.optimizer_step(optimizer)\n",
        "    tracker.add(batch_size)\n",
        "    if x % log_steps == 0:\n",
        "      print('[{}]({}) Loss={:.5f} Rate={:.2f} GlobalRate={:.2f} Time={}\\n'.format(\n",
        "          device, x, loss.item(), tracker.rate(),\n",
        "          tracker.global_rate(), time.asctime()), flush=True)\n",
        "\n",
        "def test_loop_fn(model, loader, device, context):\n",
        "  total_samples = 0\n",
        "  correct = 0\n",
        "  model.eval()\n",
        "  data, pred, target = None, None, None\n",
        "  for x, (data, target) in loader:\n",
        "    output = model(data)\n",
        "    pred = output.max(1, keepdim=True)[1]\n",
        "    correct += pred.eq(target.view_as(pred)).sum().item()\n",
        "    total_samples += data.size()[0]\n",
        "\n",
        "  accuracy = 100.0 * correct / total_samples\n",
        "  print('[{}] Accuracy={:.2f}%\\n'.format(device, accuracy))\n",
        "  return accuracy, data, pred, target"
      ],
      "execution_count": 0,
      "outputs": []
    },
    {
      "cell_type": "code",
      "metadata": {
        "id": "ALSuICwVmrOA",
        "colab_type": "code",
        "colab": {}
      },
      "source": [
        "# Start training\n",
        "data, target, pred = None, None, None\n",
        "for epoch in range(1, num_epochs + 1):\n",
        "  model_parallel(train_loop_fn, train_loader)\n",
        "  results = model_parallel(test_loop_fn, test_loader)\n",
        "  results = np.array(results)  # for ease of slicing\n",
        "  accuracies, data, pred, target = \\\n",
        "    [results[:,i] for i in range(results.shape[-1])]  \n",
        "  accuracy = sum(accuracies) / len(accuracies)\n",
        "  print('[Epoch {}] Global accuracy: {:.2f}%'.format(epoch, accuracy))\n",
        "  if metrics_debug:\n",
        "    print(torch_xla._XLAC._xla_metrics_report())"
      ],
      "execution_count": 0,
      "outputs": []
    },
    {
      "cell_type": "markdown",
      "metadata": {
        "id": "MznTE72_mthI",
        "colab_type": "text"
      },
      "source": [
        "## Visualize Predictions"
      ]
    },
    {
      "cell_type": "code",
      "metadata": {
        "id": "Qp23aPMOmu0E",
        "colab_type": "code",
        "colab": {}
      },
      "source": [
        "%matplotlib inline\n",
        "from matplotlib import pyplot as plt\n",
        "\n",
        "# Retrieve tensors that is on TPU cores\n",
        "M = 4\n",
        "N = 6\n",
        "images, labels, preds = data[0][:N*M].cpu(), \\\n",
        "  target[0][:N*M].cpu(), pred[0][:N*M].cpu()\n",
        "\n",
        "fig, axes = plt.subplots(M, N, figsize=(11, 9))\n",
        "fig.suptitle('Correct / Predicted Labels (Red text for incorrect ones)')\n",
        "\n",
        "for i, ax in enumerate(fig.axes):\n",
        "  img, label, prediction = images[i], labels[i], preds[i]\n",
        "  img = inv_norm(img)\n",
        "  img = img.squeeze() # [1,Y,X] -> [Y,X]\n",
        "  ax.axis('off')\n",
        "  label, prediction = label.item(), prediction.item()\n",
        "  if label == prediction:\n",
        "    ax.set_title(u'\\u2713', color='blue', fontsize=22)\n",
        "  else:\n",
        "    ax.set_title(\n",
        "        'X {}/{}'.format(label, prediction), color='red')\n",
        "  ax.imshow(img)"
      ],
      "execution_count": 0,
      "outputs": []
    }
  ]
}